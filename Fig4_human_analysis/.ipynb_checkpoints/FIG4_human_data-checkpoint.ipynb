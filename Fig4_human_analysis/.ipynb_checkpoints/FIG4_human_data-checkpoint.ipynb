{
 "cells": [
  {
   "cell_type": "code",
   "execution_count": 12,
   "id": "b516fe9c",
   "metadata": {},
   "outputs": [],
   "source": [
    "import pandas as pd\n",
    "import numpy as np\n",
    "import matplotlib.pyplot as plt\n",
    "from scipy import stats\n",
    "import seaborn as sns\n",
    "sns.set()\n",
    "sns.set_style(\"ticks\")\n",
    "from matplotlib.colors import LogNorm\n",
    "from statsmodels.formula.api import ols\n",
    "import statsmodels.api as sm\n",
    "import itertools\n",
    "from scipy.stats import f_oneway, ttest_ind\n",
    "import scikit_posthocs as sp\n",
    "import sys\n",
    "\n",
    "import matplotlib\n",
    "matplotlib.rcParams['svg.fonttype'] = 'none'\n",
    "matplotlib.rcParams['axes.linewidth'] = 0.4 # set the value globally\n",
    "matplotlib.rcParams['xtick.major.width'] = 0.4\n",
    "matplotlib.rcParams['ytick.major.width'] = 0.4\n",
    "matplotlib.rcParams['ytick.minor.width'] = 0.4\n",
    "cm = 1/2.54"
   ]
  },
  {
   "cell_type": "code",
   "execution_count": 8,
   "id": "7ee702c3",
   "metadata": {},
   "outputs": [],
   "source": [
    "liana_data = pd.read_excel(\"data/human_data_first_replicates.xlsx\")\n",
    "msMRM12_data = pd.read_excel(\"data/msMRM_12_summary_df.xlsx\")\n",
    "msAGK25_data = pd.read_excel(\"data/msAGK_25_summary_df_versc15ceff.xlsx\")\n",
    "\n",
    "full_data = pd.concat([liana_data, msMRM12_data, msAGK25_data]).reset_index()"
   ]
  },
  {
   "cell_type": "code",
   "execution_count": 9,
   "id": "6808ab23",
   "metadata": {},
   "outputs": [],
   "source": [
    "msAGK19_filekey = pd.read_excel(\"filekeys/msAGK19_filekey.xlsx\")\n",
    "msAGK19_filekey = msAGK19_filekey.set_index(\"file_name\")\n",
    "\n",
    "indel_filepath = \"data/msAGK_19_ncRNA_lib.xlsx\"\n",
    "indel_dict = pd.read_excel(indel_filepath, sheet_name=None)\n",
    "indel_data = pd.DataFrame(columns=[\"run_id\", \"edit_raw_read_count\",\n",
    "                             \"undetermined_no_site_match_raw_read_count\",\n",
    "                             \"wt_raw_read_count\", \"edit_percent\",\n",
    "                             \"undetermined_no_site_match_percent\",\n",
    "                             \"wt_percent\"])\n",
    "\n",
    "for run_id in indel_dict.keys():\n",
    "    run_data = indel_dict[run_id]\n",
    "    if not run_data.empty:\n",
    "        run_data_dict = {\"run_id\": run_id,\n",
    "                         \"edit_raw_read_count\": run_data.loc[run_data[\"Unnamed: 0\"] == \"edit\", \"raw read count\"][0],\n",
    "                         \"undetermined_no_site_match_raw_read_count\": run_data.loc[run_data[\"Unnamed: 0\"] == \"undetermined_no_site_match\", \"raw read count\"].values[0],\n",
    "                         \"wt_raw_read_count\": run_data.loc[run_data[\"Unnamed: 0\"] == \"wt\", \"raw read count\"].values[0],\n",
    "                         \"edit_percent\": run_data.loc[run_data[\"Unnamed: 0\"] == \"edit\", \"percent of reads\"].values[0],\n",
    "                         \"wt_percent\": run_data.loc[run_data[\"Unnamed: 0\"] == \"wt\", \"percent of reads\"].values[0],\n",
    "                         \"undetermined_no_site_match_percent\": run_data.loc[run_data[\"Unnamed: 0\"] == \"undetermined_no_site_match\",\n",
    "                                                                            \"percent of reads\"].values[0]}\n",
    "        indel_data = pd.concat([indel_data, pd.DataFrame([run_data_dict])], ignore_index=True)\n",
    "        \n",
    "msAGK23_filekey = pd.read_excel(\"filekeys/msAGK23_filekey.xlsx\")\n",
    "msAGK23_filekey = msAGK23_filekey.set_index(\"file_name\")\n",
    "\n",
    "msAGK23_dict = pd.read_excel(\"data/KDC160_R4.xlsx\", sheet_name=None)\n",
    "for run_id in msAGK23_dict.keys():\n",
    "    run_data = msAGK23_dict[run_id]\n",
    "    if not run_data.empty:\n",
    "        run_data_dict = {\"run_id\": run_id,\n",
    "                         \"edit_raw_read_count\": run_data.loc[run_data[\"Unnamed: 0\"] == \"edit\", \"raw read count\"][0],\n",
    "                         \"undetermined_no_site_match_raw_read_count\": run_data.loc[run_data[\"Unnamed: 0\"] == \"undetermined_no_site_match\", \"raw read count\"].values[0],\n",
    "                         \"wt_raw_read_count\": run_data.loc[run_data[\"Unnamed: 0\"] == \"wt\", \"raw read count\"].values[0],\n",
    "                         \"edit_percent\": run_data.loc[run_data[\"Unnamed: 0\"] == \"edit\", \"percent of reads\"].values[0],\n",
    "                         \"wt_percent\": run_data.loc[run_data[\"Unnamed: 0\"] == \"wt\", \"percent of reads\"].values[0],\n",
    "                         \"undetermined_no_site_match_percent\": run_data.loc[run_data[\"Unnamed: 0\"] == \"undetermined_no_site_match\",\n",
    "                                                                            \"percent of reads\"].values[0]}\n",
    "        indel_data = pd.concat([indel_data, pd.DataFrame([run_data_dict])], ignore_index=True)\n",
    "        \n",
    "indel_data_reindex = indel_data.set_index(\"run_id\")\n",
    "indel_filekey = pd.concat([msAGK19_filekey, msAGK23_filekey])\n",
    "indel_data_reindex[\"plasmid\"] = indel_filekey[\"plasmid\"]\n",
    "indel_data = indel_data_reindex"
   ]
  },
  {
   "cell_type": "code",
   "execution_count": 10,
   "id": "ab0ea226",
   "metadata": {},
   "outputs": [],
   "source": [
    "construct_key = pd.read_excel(\"filekeys/human_val_construct_key.xlsx\")"
   ]
  },
  {
   "cell_type": "markdown",
   "id": "8146f289",
   "metadata": {},
   "source": [
    "## FIG 4b-e:"
   ]
  },
  {
   "cell_type": "code",
   "execution_count": 73,
   "id": "b590da48",
   "metadata": {},
   "outputs": [
    {
     "data": {
      "image/png": "[encoded data removed]",
      "text/plain": [
       "<Figure size 787.402x157.48 with 4 Axes>"
      ]
     },
     "metadata": {},
     "output_type": "display_data"
    }
   ],
   "source": [
    "fig, ax = plt.subplots(1, 4, figsize=(20*cm, 4*cm), gridspec_kw={'width_ratios': [3, 3, 3, 5]})\n",
    "\n",
    "pam_construct_key = construct_key.loc[construct_key[\"Experiment\"] == \"PAM\", :]\n",
    "constructs = pam_construct_key[\"plasmid\"].unique()\n",
    "masked_data = indel_data.loc[indel_data[\"plasmid\"].isin(constructs), :].set_index(\"plasmid\").join(pam_construct_key.set_index(\"plasmid\"))\n",
    "eco1_data = masked_data.loc[masked_data[\"Retron\"] == \"-Eco1\", :]\n",
    "\n",
    "sns.stripplot(data=eco1_data,\n",
    "              x=\"PAM\",\n",
    "              y=\"undetermined_no_site_match_percent\",\n",
    "              color=\"k\",\n",
    "              s=5,\n",
    "              ax=ax[0],\n",
    "              jitter=False)\n",
    "# ax.set_ylim([0.05, 2])\n",
    "ax[0].set_ylabel(\"Indel percent\", font=\"Helvetica\", fontsize=7)\n",
    "ax[0].set_xlabel(\"gRNA\", fontsize=7, font=\"Helvetica\")\n",
    "ax[0].tick_params(axis='both', which='major', labelsize=7)\n",
    "ax[0].set_ylim([0, 13])\n",
    "\n",
    "paired_samples_sequencing_run = [\"msKDC-08\", \"msMRM_12\"]\n",
    "length_construct_key = construct_key.loc[construct_key[\"Experiment\"] == \"Length\", :]\n",
    "constructs = length_construct_key[\"plasmid\"].unique()\n",
    "masked_data = full_data.loc[full_data[\"plasmid\"].isin(constructs), :]\n",
    "run_indices_1 = [x for x in masked_data.index if \"msKDC-08\" in masked_data.loc[x, \"run_id\"]]\n",
    "run_indices_2 = [x for x in masked_data.index if \"msMRM_12\" in masked_data.loc[x, \"run_id\"]]\n",
    "run_indices = run_indices_1 + run_indices_2\n",
    "masked_data = masked_data.loc[run_indices, :]\n",
    "masked_data = masked_data.set_index(\"plasmid\").join(length_construct_key.set_index(\"plasmid\"))\n",
    "\n",
    "# donor length\n",
    "ax[1].set_clip_on(False)\n",
    "sns.stripplot(data=masked_data,\n",
    "              x=\"Length\",\n",
    "              y=\"edit_pct\",\n",
    "              color=\"k\",\n",
    "              s=5,\n",
    "              ax=ax[1],\n",
    "              order=[54.0, 112.0],\n",
    "              jitter=False)\n",
    "ax[1].set_ylabel(\"Precise editing percent\", font=\"Helvetica\", fontsize=7)\n",
    "ax[1].set_xlabel(\"Donor length (bp)\", fontsize=7, font=\"Helvetica\")\n",
    "ax[1].tick_params(axis='both', which='major', labelsize=7)\n",
    "ax[1].set_xticklabels([54,  112], fontsize=7, font=\"Helvetica\")\n",
    "ax[1].set_ylim([-0.5, 19])\n",
    "\n",
    "pairing_information = pd.read_excel(\"filekeys/Pairing_Samples_For_T.xlsx\")\n",
    "paired_samples_sequencing_run = [\"msKDC-08\", \"msMRM_12\"]\n",
    "dir_construct_key = construct_key.loc[construct_key[\"Experiment\"] == \"Direction\", :]\n",
    "dir_construct_key = dir_construct_key.loc[dir_construct_key[\"PAM\"] == 19, :]\n",
    "constructs = dir_construct_key[\"plasmid\"].unique()\n",
    "masked_data = full_data.loc[full_data[\"plasmid\"].isin(constructs), :]\n",
    "run_indices_1 = [x for x in masked_data.index if \"msKDC-08\" in masked_data.loc[x, \"run_id\"]]\n",
    "run_indices_2 = [x for x in masked_data.index if \"msMRM_12\" in masked_data.loc[x, \"run_id\"]]\n",
    "run_indices = run_indices_1 + run_indices_2\n",
    "masked_data = masked_data.loc[run_indices, :]\n",
    "masked_data = masked_data.set_index(\"plasmid\").join(dir_construct_key.set_index(\"plasmid\"))\n",
    "masked_data = masked_data.loc[masked_data[\"run_id\"].isin(pairing_information[\"run_id\"]), :]\n",
    "\n",
    "# donor length\n",
    "ax[2].set_clip_on(False)\n",
    "sns.stripplot(data=masked_data,\n",
    "              x=\"parallel_or_anti\",\n",
    "              y=\"edit_pct\",\n",
    "              color=\"k\",\n",
    "              s=5,\n",
    "              ax=ax[2],\n",
    "              order=[\"Complementary\", \"Parallel\"],\n",
    "              jitter=False)\n",
    "# ax.set_ylim([0.05, 2])\n",
    "ax[2].set_ylabel(\"Precise editing percent\", font=\"Helvetica\", fontsize=7)\n",
    "ax[2].set_xlabel(\"gRNA complementarity\", fontsize=7, font=\"Helvetica\")\n",
    "ax[2].tick_params(axis='both', which='major', labelsize=7)\n",
    "ax[2].set_xticklabels([\"Complementary\", \"Parallel\"], fontsize=7, font=\"Helvetica\")\n",
    "ax[2].set_ylim([-0.5, 19])\n",
    "\n",
    "paired_samples_sequencing_run = [\"msAGK_25\"]\n",
    "chassis_construct_key = construct_key.loc[construct_key[\"Experiment\"] == \"Chassis\", :]\n",
    "constructs = chassis_construct_key[\"plasmid\"].unique()\n",
    "masked_data = full_data.loc[full_data[\"plasmid\"].isin(constructs), :]\n",
    "run_indices = [x for x in masked_data.index if \"msAGK_25\" in masked_data.loc[x, \"run_id\"]]\n",
    "masked_data = masked_data.loc[run_indices, :]\n",
    "masked_data = masked_data.set_index(\"plasmid\").join(chassis_construct_key.set_index(\"plasmid\"))\n",
    "\n",
    "# donor length\n",
    "ax[3].set_clip_on(False)\n",
    "sns.stripplot(data=masked_data,\n",
    "              x=\"Chassis\",\n",
    "              y=\"edit_pct\",\n",
    "              color=\"k\",\n",
    "              s=5,\n",
    "              ax=ax[3],\n",
    "              order=[1, 4, 3, 20],\n",
    "              jitter=False)\n",
    "ax[3].set_ylim([-0.5, 26])\n",
    "ax[3].set_ylabel(\"Precise editing percent\", font=\"Helvetica\", fontsize=7)\n",
    "ax[3].set_xlabel(\"ncRNA chassis\", fontsize=7, font=\"Helvetica\")\n",
    "ax[3].tick_params(axis='both', which='major', labelsize=7)\n",
    "ax[3].set_xticklabels([1, 4, 3, 20], fontsize=7, font=\"Helvetica\")\n",
    "pass\n",
    "plt.savefig(\"PUB_human_guide_length_dir_chassis_comp.svg\", transparent=True, bbox_inches=\"tight\")"
   ]
  },
  {
   "cell_type": "markdown",
   "id": "1994d130",
   "metadata": {},
   "source": [
    "## STATISTICS FOR FIG 4b-d:\n",
    "- 4e: One-way ANOVA with Dunnett's post-hoc comparing to wild-type chassis was done in GraphPad because Conda cannot update scipy to the version with the Dunnett's test\n",
    "- 4g: One-way ANOVA with Dunnett's post-hoc comparing to central edit and cut site was done in GraphPad because Conda cannot update scipy to the version with the Dunnett's test"
   ]
  },
  {
   "cell_type": "code",
   "execution_count": 25,
   "id": "b3034885",
   "metadata": {},
   "outputs": [
    {
     "name": "stdout",
     "output_type": "stream",
     "text": [
      "ANOVA results:\n",
      "                sum_sq   df         F    PR(>F)\n",
      "C(plasmid)  117.037409  2.0  91.61056  0.000032\n",
      "Residual      3.832661  6.0       NaN       NaN\n",
      "\n",
      "Bonferroni post-hoc test results:\n",
      "Comparison 156 vs 158: p-value = 0.0019915254295710025\n",
      "Comparison 156 vs 160: p-value = 0.00028321861649251335\n",
      "Comparison 158 vs 160: p-value = 0.0015929235097827722\n"
     ]
    }
   ],
   "source": [
    "# 4b: one-way ANOVA, bonferroni corrected to compare all-against-all\n",
    "pam_construct_key = construct_key.loc[construct_key[\"Experiment\"] == \"PAM\", :]\n",
    "constructs = pam_construct_key[\"plasmid\"].unique()\n",
    "masked_data = indel_data.loc[indel_data[\"plasmid\"].isin(constructs), :].set_index(\"plasmid\").join(pam_construct_key.set_index(\"plasmid\"))\n",
    "eco1_data = masked_data.loc[masked_data[\"Retron\"] == \"-Eco1\", :].reset_index()[[\"plasmid\", \"undetermined_no_site_match_percent\"]]\n",
    "\n",
    "model = ols('undetermined_no_site_match_percent ~ C(plasmid)', data=eco1_data).fit()\n",
    "anova_table = sm.stats.anova_lm(model, typ=2)\n",
    "print(\"ANOVA results:\")\n",
    "print(anova_table)\n",
    "\n",
    "# Perform Bonferroni post-hoc test\n",
    "group_combinations = list(itertools.combinations(eco1_data['plasmid'].unique(), 2))\n",
    "p_values = []\n",
    "for group1, group2 in group_combinations:\n",
    "    group1_data = eco1_data[eco1_data['plasmid'] == group1]['undetermined_no_site_match_percent']\n",
    "    group2_data = eco1_data[eco1_data['plasmid'] == group2]['undetermined_no_site_match_percent']\n",
    "    _, p_value = ttest_ind(group1_data, group2_data)\n",
    "    p_values.append((group1, group2, p_value))\n",
    "\n",
    "# Bonferroni correction\n",
    "bonferroni_alpha = 0.05 / len(p_values)\n",
    "significant_comparisons = [(g1, g2, p) for g1, g2, p in p_values if p < bonferroni_alpha]\n",
    "\n",
    "print(\"\\nBonferroni post-hoc test results:\")\n",
    "for group1, group2, p_value in significant_comparisons:\n",
    "    print(f\"Comparison {group1} vs {group2}: p-value = {p_value}\")\n",
    "\n",
    "if not significant_comparisons:\n",
    "    print(\"No significant differences found with Bonferroni correction.\")"
   ]
  },
  {
   "cell_type": "code",
   "execution_count": 58,
   "id": "29eb7432",
   "metadata": {},
   "outputs": [
    {
     "name": "stdout",
     "output_type": "stream",
     "text": [
      "Paired T-Test Results:\n",
      "T-Statistic: -6.160695494959667\n",
      "P-Value: 0.025349988194913537\n"
     ]
    }
   ],
   "source": [
    "# 4c: paired t-test\n",
    "pairing_information = pd.read_excel(\"filekeys/Pairing_Samples_For_T.xlsx\")\n",
    "\n",
    "paired_samples_sequencing_run = [\"msKDC-08\", \"msMRM_12\"]\n",
    "length_construct_key = construct_key.loc[construct_key[\"Experiment\"] == \"Length\", :]\n",
    "constructs = length_construct_key[\"plasmid\"].unique()\n",
    "masked_data = full_data.loc[full_data[\"plasmid\"].isin(constructs), :]\n",
    "run_indices_1 = [x for x in masked_data.index if \"msKDC-08\" in masked_data.loc[x, \"run_id\"]]\n",
    "run_indices_2 = [x for x in masked_data.index if \"msMRM_12\" in masked_data.loc[x, \"run_id\"]]\n",
    "run_indices = run_indices_1 + run_indices_2\n",
    "masked_data = masked_data.loc[run_indices, :]\n",
    "masked_data = masked_data.set_index(\"plasmid\").join(length_construct_key.set_index(\"plasmid\"))\n",
    "\n",
    "plasmid_42 = []\n",
    "plasmid_43 = []\n",
    "\n",
    "for replicate in np.unique(pairing_information[\"Replicate\"]):\n",
    "    replicate_df = pairing_information.loc[pairing_information[\"Replicate\"] == replicate, :]\n",
    "    replicate_df = replicate_df.loc[replicate_df[\"plasmid\"].isin(constructs), :]\n",
    "    run_id_42 = replicate_df.loc[replicate_df[\"plasmid\"] == 42, \"run_id\"].iloc[0]\n",
    "    plasmid_42.append(masked_data.loc[masked_data[\"run_id\"] == run_id_42, \"edit_pct\"].iloc[0])\n",
    "    run_id_43 = replicate_df.loc[replicate_df[\"plasmid\"] == 43, \"run_id\"].iloc[0]\n",
    "    plasmid_43.append(masked_data.loc[masked_data[\"run_id\"] == run_id_43, \"edit_pct\"].iloc[0])\n",
    "    \n",
    "t_stat, p_value = stats.ttest_rel(plasmid_42, plasmid_43)\n",
    "\n",
    "print(f\"Paired T-Test Results:\\nT-Statistic: {t_stat}\\nP-Value: {p_value}\")"
   ]
  },
  {
   "cell_type": "code",
   "execution_count": 69,
   "id": "6bbfbce8",
   "metadata": {},
   "outputs": [
    {
     "name": "stdout",
     "output_type": "stream",
     "text": [
      "Paired T-Test Results:\n",
      "T-Statistic: -4.632837946260035\n",
      "P-Value: 0.04356908802723038\n"
     ]
    }
   ],
   "source": [
    "# 4d: paired t-test\n",
    "pairing_information = pd.read_excel(\"filekeys/Pairing_Samples_For_T.xlsx\")\n",
    "\n",
    "paired_samples_sequencing_run = [\"msKDC-08\", \"msMRM_12\"]\n",
    "dir_construct_key = construct_key.loc[construct_key[\"Experiment\"] == \"Direction\", :]\n",
    "dir_construct_key = dir_construct_key.loc[dir_construct_key[\"PAM\"] == 19, :]\n",
    "constructs = dir_construct_key[\"plasmid\"].unique()\n",
    "masked_data = full_data.loc[full_data[\"plasmid\"].isin(constructs), :]\n",
    "run_indices_1 = [x for x in masked_data.index if \"msKDC-08\" in masked_data.loc[x, \"run_id\"]]\n",
    "run_indices_2 = [x for x in masked_data.index if \"msMRM_12\" in masked_data.loc[x, \"run_id\"]]\n",
    "run_indices = run_indices_1 + run_indices_2\n",
    "masked_data = masked_data.loc[run_indices, :]\n",
    "masked_data = masked_data.set_index(\"plasmid\").join(dir_construct_key.set_index(\"plasmid\"))\n",
    "\n",
    "plasmid_45 = []\n",
    "plasmid_50 = []\n",
    "\n",
    "for replicate in np.unique(pairing_information[\"Replicate\"]):\n",
    "    replicate_df = pairing_information.loc[pairing_information[\"Replicate\"] == replicate, :]\n",
    "    replicate_df = replicate_df.loc[replicate_df[\"plasmid\"].isin(constructs), :]\n",
    "    run_id_45 = replicate_df.loc[replicate_df[\"plasmid\"] == 45, \"run_id\"].iloc[0]\n",
    "    plasmid_45.append(masked_data.loc[masked_data[\"run_id\"] == run_id_45, \"edit_pct\"].iloc[0])\n",
    "    run_id_50 = replicate_df.loc[replicate_df[\"plasmid\"] == 50, \"run_id\"].iloc[0]\n",
    "    plasmid_50.append(masked_data.loc[masked_data[\"run_id\"] == run_id_50, \"edit_pct\"].iloc[0])\n",
    "    \n",
    "t_stat, p_value = stats.ttest_rel(plasmid_45, plasmid_50)\n",
    "\n",
    "print(f\"Paired T-Test Results:\\nT-Statistic: {t_stat}\\nP-Value: {p_value}\")"
   ]
  },
  {
   "cell_type": "markdown",
   "id": "ecc23db0",
   "metadata": {},
   "source": [
    "## FIG 4g:"
   ]
  },
  {
   "cell_type": "code",
   "execution_count": 13,
   "id": "0a9f4432",
   "metadata": {},
   "outputs": [
    {
     "data": {
      "image/png": "[encoded data removed]",
      "text/plain": [
       "<Figure size 393.701x196.85 with 1 Axes>"
      ]
     },
     "metadata": {},
     "output_type": "display_data"
    }
   ],
   "source": [
    "fig, ax = plt.subplots(figsize=(10*cm, 5*cm))\n",
    "\n",
    "center_construct_key = construct_key.loc[construct_key[\"Experiment\"] == \"Donor Center\", :]\n",
    "constructs = center_construct_key[\"plasmid\"].unique()\n",
    "masked_data = full_data.loc[full_data[\"plasmid\"].isin(constructs), :].set_index(\"plasmid\").join(center_construct_key.set_index(\"plasmid\")).reset_index()\n",
    "masked_data.to_excel(\"human_donor_center_data_graphpad.xlsx\")\n",
    "\n",
    "sns.stripplot(data=masked_data,\n",
    "              x=\"plasmid\",\n",
    "              y=\"edit_pct\",\n",
    "              color=\"k\",\n",
    "              s=5,\n",
    "              ax=ax,\n",
    "              jitter=False,\n",
    "              order=[103, 47, 48,\n",
    "                     49, 50, 51,\n",
    "                     52, 53, 54])\n",
    "# ax.set_ylim([0.05, 2])\n",
    "ax.set_ylabel(\"Precise editing percent\", font=\"Helvetica\", fontsize=7)\n",
    "ax.set_xlabel(\"Donor Center\", fontsize=7, font=\"Helvetica\")\n",
    "ax.tick_params(axis='both', which='major', labelsize=7)\n",
    "pass\n",
    "# plt.savefig(\"PUB_human_center.svg\", transparent=True, bbox_inches=\"tight\")"
   ]
  }
 ],
 "metadata": {
  "kernelspec": {
   "display_name": "Python 3 (ipykernel)",
   "language": "python",
   "name": "python3"
  },
  "language_info": {
   "codemirror_mode": {
    "name": "ipython",
    "version": 3
   },
   "file_extension": ".py",
   "mimetype": "text/x-python",
   "name": "python",
   "nbconvert_exporter": "python",
   "pygments_lexer": "ipython3",
   "version": "3.7.3"
  }
 },
 "nbformat": 4,
 "nbformat_minor": 5
}
